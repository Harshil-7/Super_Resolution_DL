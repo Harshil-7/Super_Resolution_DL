{
  "nbformat": 4,
  "nbformat_minor": 0,
  "metadata": {
    "colab": {
      "provenance": [],
      "toc_visible": true,
      "authorship_tag": "ABX9TyPJWFr5qjmwndgQnhNsqWcq"
    },
    "kernelspec": {
      "name": "python3",
      "display_name": "Python 3"
    },
    "language_info": {
      "name": "python"
    }
  },
  "cells": [
    {
      "cell_type": "markdown",
      "source": [
        "# **Importing Modules!**"
      ],
      "metadata": {
        "id": "G0t71Y1xhVK0"
      }
    },
    {
      "cell_type": "code",
      "execution_count": null,
      "metadata": {
        "id": "HWS87aoIglun"
      },
      "outputs": [],
      "source": [
        "import cv2\n",
        "from cv2 import dnn_superres"
      ]
    },
    {
      "cell_type": "markdown",
      "source": [
        "# **Initializing the Model.**"
      ],
      "metadata": {
        "id": "m_jJYnMNho6K"
      }
    },
    {
      "cell_type": "code",
      "source": [
        "#links to download model\n",
        "# https://github.com/Saafke/EDSR_Tensorflow/blob/master/models/"
      ],
      "metadata": {
        "id": "lsTc_rwSiKDG"
      },
      "execution_count": null,
      "outputs": []
    },
    {
      "cell_type": "code",
      "source": [
        "#intialize super resolution object\n",
        "sr = dnn_superres.DnnSuperResImpl_create()\n",
        "\n"
      ],
      "metadata": {
        "id": "9eP2DJvag4Na"
      },
      "execution_count": null,
      "outputs": []
    },
    {
      "cell_type": "markdown",
      "source": [
        "# **Reading the model**"
      ],
      "metadata": {
        "id": "Y3ajDn1QHsq4"
      }
    },
    {
      "cell_type": "code",
      "source": [
        "# read the model\n",
        "path = 'EDSR_x4.pb'\n",
        "sr.readModel(path)"
      ],
      "metadata": {
        "id": "VJDfuI3rhcIG"
      },
      "execution_count": null,
      "outputs": []
    },
    {
      "cell_type": "markdown",
      "source": [
        "# **Set the Model**"
      ],
      "metadata": {
        "id": "duL0MCCDH0xJ"
      }
    },
    {
      "cell_type": "code",
      "source": [
        "# Set the model and scale\n",
        "sr.setModel('edsr',4)"
      ],
      "metadata": {
        "id": "qe7Fee8PkPGt"
      },
      "execution_count": null,
      "outputs": []
    },
    {
      "cell_type": "code",
      "source": [
        "#cuda support\n",
        "sr.setPreferableBackend(cv2.dnn.DNN_BACKEND_CUDA)\n",
        "sr.setPreferableTarget(cv2.dnn.DNN_TARGET_CUDA)"
      ],
      "metadata": {
        "id": "2bD7EZbAlI6b"
      },
      "execution_count": null,
      "outputs": []
    },
    {
      "cell_type": "markdown",
      "source": [
        "# **Testing!!**"
      ],
      "metadata": {
        "id": "9ehM5GHkH8ZG"
      }
    },
    {
      "cell_type": "code",
      "source": [
        "# loding image\n",
        "img = cv2.imread('/input.png')"
      ],
      "metadata": {
        "id": "TlChOVgjq6iq"
      },
      "execution_count": null,
      "outputs": []
    },
    {
      "cell_type": "code",
      "source": [
        "#upscale the image\n",
        "upscaled = sr.upsample(img)\n",
        "#save the upscaled image\n",
        "cv2.imwrite('upscaled_test.png',upscaled)"
      ],
      "metadata": {
        "colab": {
          "base_uri": "https://localhost:8080/"
        },
        "id": "KdXTtxkOA7Pg",
        "outputId": "b4a9af60-9320-41f3-c365-65f6ea9a1631"
      },
      "execution_count": null,
      "outputs": [
        {
          "output_type": "execute_result",
          "data": {
            "text/plain": [
              "True"
            ]
          },
          "metadata": {},
          "execution_count": 31
        }
      ]
    },
    {
      "cell_type": "code",
      "source": [
        "# loding image\n",
        "img = cv2.imread('/Test.jpeg')"
      ],
      "metadata": {
        "id": "ay1e02ZVB_aQ"
      },
      "execution_count": null,
      "outputs": []
    },
    {
      "cell_type": "code",
      "source": [
        "#upscale the image\n",
        "upscaled = sr.upsample(img)\n",
        "#save the upscaled image\n",
        "cv2.imwrite('upscaled_test2.png',upscaled)"
      ],
      "metadata": {
        "colab": {
          "base_uri": "https://localhost:8080/"
        },
        "id": "m7BE-N9QHKyd",
        "outputId": "9c98589e-00b6-4013-b14d-5f2ba72cdebd"
      },
      "execution_count": null,
      "outputs": [
        {
          "output_type": "execute_result",
          "data": {
            "text/plain": [
              "True"
            ]
          },
          "metadata": {},
          "execution_count": 33
        }
      ]
    },
    {
      "cell_type": "code",
      "source": [],
      "metadata": {
        "id": "qlCzhzM8HPTo"
      },
      "execution_count": null,
      "outputs": []
    }
  ]
}